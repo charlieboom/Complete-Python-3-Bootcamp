{
 "cells": [
  {
   "cell_type": "code",
   "execution_count": 1,
   "id": "9985a809",
   "metadata": {},
   "outputs": [],
   "source": [
    "#lambda expressions: can quickly create anonymous functions that u use once and never reference again"
   ]
  },
  {
   "cell_type": "code",
   "execution_count": 2,
   "id": "6add6f19",
   "metadata": {},
   "outputs": [
    {
     "data": {
      "text/plain": [
       "''"
      ]
     },
     "execution_count": 2,
     "metadata": {},
     "output_type": "execute_result"
    }
   ],
   "source": [
    "#map function\n",
    "''''''"
   ]
  },
  {
   "cell_type": "code",
   "execution_count": 3,
   "id": "8c1d786d",
   "metadata": {},
   "outputs": [
    {
     "data": {
      "text/plain": [
       "'map(func, iterable)'"
      ]
     },
     "execution_count": 3,
     "metadata": {},
     "output_type": "execute_result"
    }
   ],
   "source": [
    "'''map(func, iterable)'''"
   ]
  },
  {
   "cell_type": "code",
   "execution_count": 4,
   "id": "33ac427d",
   "metadata": {},
   "outputs": [],
   "source": [
    "def square(num):\n",
    "    return num**2"
   ]
  },
  {
   "cell_type": "code",
   "execution_count": 5,
   "id": "c3611778",
   "metadata": {},
   "outputs": [],
   "source": [
    "my_nums=[1,2,3,4,5]"
   ]
  },
  {
   "cell_type": "code",
   "execution_count": 6,
   "id": "cf01ae83",
   "metadata": {},
   "outputs": [
    {
     "data": {
      "text/plain": [
       "'use map to square all of these'"
      ]
     },
     "execution_count": 6,
     "metadata": {},
     "output_type": "execute_result"
    }
   ],
   "source": [
    "'''use map to square all of these'''"
   ]
  },
  {
   "cell_type": "code",
   "execution_count": 7,
   "id": "8942820f",
   "metadata": {},
   "outputs": [
    {
     "data": {
      "text/plain": [
       "<map at 0x7fa661687820>"
      ]
     },
     "execution_count": 7,
     "metadata": {},
     "output_type": "execute_result"
    }
   ],
   "source": [
    "map(square,my_nums)"
   ]
  },
  {
   "cell_type": "code",
   "execution_count": 8,
   "id": "78d58810",
   "metadata": {},
   "outputs": [
    {
     "name": "stdout",
     "output_type": "stream",
     "text": [
      "1\n",
      "4\n",
      "9\n",
      "16\n",
      "25\n"
     ]
    }
   ],
   "source": [
    "for item in map(square,my_nums):\n",
    "    print(item)"
   ]
  },
  {
   "cell_type": "code",
   "execution_count": 10,
   "id": "a074fe64",
   "metadata": {},
   "outputs": [
    {
     "data": {
      "text/plain": [
       "[1, 4, 9, 16, 25]"
      ]
     },
     "execution_count": 10,
     "metadata": {},
     "output_type": "execute_result"
    }
   ],
   "source": [
    "list(map(square,my_nums))"
   ]
  },
  {
   "cell_type": "code",
   "execution_count": 11,
   "id": "b86a4427",
   "metadata": {},
   "outputs": [],
   "source": [
    "def splicer(mystring):\n",
    "    if len(mystring)%2==0:\n",
    "        return 'EVEN'\n",
    "    else:\n",
    "        return mystring[0]"
   ]
  },
  {
   "cell_type": "code",
   "execution_count": 12,
   "id": "3a3d8328",
   "metadata": {},
   "outputs": [],
   "source": [
    "names=['andy','eve','sally']"
   ]
  },
  {
   "cell_type": "code",
   "execution_count": 13,
   "id": "1a5c498b",
   "metadata": {},
   "outputs": [
    {
     "data": {
      "text/plain": [
       "['EVEN', 'e', 's']"
      ]
     },
     "execution_count": 13,
     "metadata": {},
     "output_type": "execute_result"
    }
   ],
   "source": [
    "list(map(splicer,names))"
   ]
  },
  {
   "cell_type": "code",
   "execution_count": 14,
   "id": "704cb220",
   "metadata": {},
   "outputs": [
    {
     "data": {
      "text/plain": [
       "'filter function, when u pass in item into function its True'"
      ]
     },
     "execution_count": 14,
     "metadata": {},
     "output_type": "execute_result"
    }
   ],
   "source": [
    "'''filter function, when u pass in item into function its True,ONLY IF ITS TRUE'''"
   ]
  },
  {
   "cell_type": "code",
   "execution_count": 15,
   "id": "31dd9e84",
   "metadata": {},
   "outputs": [],
   "source": [
    "def check_even(num):\n",
    "    return num%2==0"
   ]
  },
  {
   "cell_type": "code",
   "execution_count": 16,
   "id": "99ea1f8e",
   "metadata": {},
   "outputs": [],
   "source": [
    "mynumbers=[1,2,3,4,5,6]"
   ]
  },
  {
   "cell_type": "code",
   "execution_count": 17,
   "id": "a604a026",
   "metadata": {},
   "outputs": [
    {
     "data": {
      "text/plain": [
       "'only want even numbers'"
      ]
     },
     "execution_count": 17,
     "metadata": {},
     "output_type": "execute_result"
    }
   ],
   "source": [
    "'only want even numbers'"
   ]
  },
  {
   "cell_type": "code",
   "execution_count": 19,
   "id": "743caee3",
   "metadata": {},
   "outputs": [
    {
     "data": {
      "text/plain": [
       "<filter at 0x7fa661591640>"
      ]
     },
     "execution_count": 19,
     "metadata": {},
     "output_type": "execute_result"
    }
   ],
   "source": [
    "filter(check_even,mynumbers)"
   ]
  },
  {
   "cell_type": "code",
   "execution_count": 20,
   "id": "9a03ea59",
   "metadata": {},
   "outputs": [
    {
     "data": {
      "text/plain": [
       "[2, 4, 6]"
      ]
     },
     "execution_count": 20,
     "metadata": {},
     "output_type": "execute_result"
    }
   ],
   "source": [
    "list(filter(check_even,mynumbers))"
   ]
  },
  {
   "cell_type": "code",
   "execution_count": 22,
   "id": "e7f5edd5",
   "metadata": {},
   "outputs": [
    {
     "name": "stdout",
     "output_type": "stream",
     "text": [
      "2\n",
      "4\n",
      "6\n"
     ]
    }
   ],
   "source": [
    "for n in filter(check_even,mynumbers):\n",
    "    print(n)"
   ]
  },
  {
   "cell_type": "code",
   "execution_count": 23,
   "id": "5742e0d9",
   "metadata": {},
   "outputs": [
    {
     "data": {
      "text/plain": [
       "'Lambda expression: lets convert into a lambda function step by step'"
      ]
     },
     "execution_count": 23,
     "metadata": {},
     "output_type": "execute_result"
    }
   ],
   "source": [
    "'''Lambda expression: lets convert into a lambda function step by step/ also called an anonymous function'''"
   ]
  },
  {
   "cell_type": "code",
   "execution_count": 27,
   "id": "395bbb98",
   "metadata": {},
   "outputs": [],
   "source": [
    "def square(num):\n",
    "    return num**2"
   ]
  },
  {
   "cell_type": "code",
   "execution_count": 28,
   "id": "358db9a4",
   "metadata": {},
   "outputs": [
    {
     "data": {
      "text/plain": [
       "4"
      ]
     },
     "execution_count": 28,
     "metadata": {},
     "output_type": "execute_result"
    }
   ],
   "source": [
    "square(2)"
   ]
  },
  {
   "cell_type": "code",
   "execution_count": 30,
   "id": "7fc7bcb0",
   "metadata": {},
   "outputs": [],
   "source": [
    "square = lambda num: num**2"
   ]
  },
  {
   "cell_type": "code",
   "execution_count": 31,
   "id": "99222936",
   "metadata": {},
   "outputs": [
    {
     "data": {
      "text/plain": [
       "25"
      ]
     },
     "execution_count": 31,
     "metadata": {},
     "output_type": "execute_result"
    }
   ],
   "source": [
    "square(5)"
   ]
  },
  {
   "cell_type": "code",
   "execution_count": 32,
   "id": "c254c4d9",
   "metadata": {},
   "outputs": [
    {
     "data": {
      "text/plain": [
       "'if only doing something once, to save space instead of making a function, just insert a lambda function'"
      ]
     },
     "execution_count": 32,
     "metadata": {},
     "output_type": "execute_result"
    }
   ],
   "source": [
    "'''if only doing something once, to save space instead of making a function, just insert a lambda function'''"
   ]
  },
  {
   "cell_type": "code",
   "execution_count": 35,
   "id": "5ebfb027",
   "metadata": {},
   "outputs": [
    {
     "data": {
      "text/plain": [
       "[1, 4, 9, 16, 25, 36]"
      ]
     },
     "execution_count": 35,
     "metadata": {},
     "output_type": "execute_result"
    }
   ],
   "source": [
    "list(map(lambda num:num**2,mynumbers))"
   ]
  },
  {
   "cell_type": "code",
   "execution_count": 36,
   "id": "1bc0428c",
   "metadata": {},
   "outputs": [
    {
     "data": {
      "text/plain": [
       "<function __main__.<lambda>(num)>"
      ]
     },
     "execution_count": 36,
     "metadata": {},
     "output_type": "execute_result"
    }
   ],
   "source": [
    "lambda num: num%2==0"
   ]
  },
  {
   "cell_type": "code",
   "execution_count": 39,
   "id": "06597492",
   "metadata": {},
   "outputs": [
    {
     "data": {
      "text/plain": [
       "[2, 4, 6]"
      ]
     },
     "execution_count": 39,
     "metadata": {},
     "output_type": "execute_result"
    }
   ],
   "source": [
    "list(filter(lambda num:num%2==0, mynumbers))"
   ]
  },
  {
   "cell_type": "code",
   "execution_count": 41,
   "id": "4b1b36ac",
   "metadata": {},
   "outputs": [
    {
     "data": {
      "text/plain": [
       "['ydna', 'eve', 'yllas']"
      ]
     },
     "execution_count": 41,
     "metadata": {},
     "output_type": "execute_result"
    }
   ],
   "source": [
    "list(map(lambda name:name[::-1],names))"
   ]
  },
  {
   "cell_type": "code",
   "execution_count": 42,
   "id": "d47afeeb",
   "metadata": {},
   "outputs": [
    {
     "data": {
      "text/plain": [
       "'only use lambda if u can easily read it when u come back to code'"
      ]
     },
     "execution_count": 42,
     "metadata": {},
     "output_type": "execute_result"
    }
   ],
   "source": [
    "'''only use lambda if u can easily read it when u come back to code'''"
   ]
  },
  {
   "cell_type": "code",
   "execution_count": null,
   "id": "81a08203",
   "metadata": {},
   "outputs": [],
   "source": []
  }
 ],
 "metadata": {
  "kernelspec": {
   "display_name": "Python 3",
   "language": "python",
   "name": "python3"
  },
  "language_info": {
   "codemirror_mode": {
    "name": "ipython",
    "version": 3
   },
   "file_extension": ".py",
   "mimetype": "text/x-python",
   "name": "python",
   "nbconvert_exporter": "python",
   "pygments_lexer": "ipython3",
   "version": "3.8.8"
  }
 },
 "nbformat": 4,
 "nbformat_minor": 5
}
