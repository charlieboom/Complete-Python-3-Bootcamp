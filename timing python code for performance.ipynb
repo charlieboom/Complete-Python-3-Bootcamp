{
 "cells": [
  {
   "cell_type": "code",
   "execution_count": 1,
   "id": "5901f8b8",
   "metadata": {},
   "outputs": [
    {
     "data": {
      "text/plain": [
       "3"
      ]
     },
     "execution_count": 1,
     "metadata": {},
     "output_type": "execute_result"
    }
   ],
   "source": [
    "# timeit module\n",
    "\n",
    "3"
   ]
  },
  {
   "cell_type": "code",
   "execution_count": 2,
   "id": "bdb5f74a",
   "metadata": {},
   "outputs": [],
   "source": [
    "def func(n):\n",
    "    return [str(num) for num in range(n)]"
   ]
  },
  {
   "cell_type": "code",
   "execution_count": 3,
   "id": "b126c37a",
   "metadata": {},
   "outputs": [
    {
     "data": {
      "text/plain": [
       "['0', '1', '2', '3', '4', '5', '6', '7', '8', '9']"
      ]
     },
     "execution_count": 3,
     "metadata": {},
     "output_type": "execute_result"
    }
   ],
   "source": [
    "func(10)"
   ]
  },
  {
   "cell_type": "code",
   "execution_count": 4,
   "id": "c2d09912",
   "metadata": {},
   "outputs": [],
   "source": [
    "import timeit"
   ]
  },
  {
   "cell_type": "code",
   "execution_count": 5,
   "id": "3f8083e0",
   "metadata": {},
   "outputs": [],
   "source": [
    "statement = '''\n",
    "func(100)\n",
    "'''"
   ]
  },
  {
   "cell_type": "code",
   "execution_count": 8,
   "id": "3e5a04b3",
   "metadata": {},
   "outputs": [
    {
     "data": {
      "text/plain": [
       "0.23458689999995386"
      ]
     },
     "execution_count": 8,
     "metadata": {},
     "output_type": "execute_result"
    }
   ],
   "source": [
    "setup = '''\n",
    "def func(n):\n",
    "    return [str(num) for num in range(n)]\n",
    "'''\n",
    "timeit.timeit(statement,setup,number=10000)"
   ]
  },
  {
   "cell_type": "code",
   "execution_count": null,
   "id": "88e91f51",
   "metadata": {},
   "outputs": [],
   "source": []
  }
 ],
 "metadata": {
  "kernelspec": {
   "display_name": "Python 3 (ipykernel)",
   "language": "python",
   "name": "python3"
  },
  "language_info": {
   "codemirror_mode": {
    "name": "ipython",
    "version": 3
   },
   "file_extension": ".py",
   "mimetype": "text/x-python",
   "name": "python",
   "nbconvert_exporter": "python",
   "pygments_lexer": "ipython3",
   "version": "3.9.7"
  }
 },
 "nbformat": 4,
 "nbformat_minor": 5
}
