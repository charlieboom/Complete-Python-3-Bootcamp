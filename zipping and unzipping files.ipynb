{
 "cells": [
  {
   "cell_type": "code",
   "execution_count": 1,
   "id": "e074965f",
   "metadata": {},
   "outputs": [],
   "source": [
    "f = open('fileone.txt','w+')\n",
    "f.write('one file')\n",
    "f.close()\n",
    "f = open('file2.txt','w+')\n",
    "f.write('two file')\n",
    "f.close()"
   ]
  },
  {
   "cell_type": "code",
   "execution_count": 2,
   "id": "5420f985",
   "metadata": {},
   "outputs": [],
   "source": [
    "import zipfile"
   ]
  },
  {
   "cell_type": "code",
   "execution_count": 4,
   "id": "70e0ff5d",
   "metadata": {},
   "outputs": [],
   "source": [
    "#makes a zip file !!\n",
    "compress_file = zipfile.ZipFile('compressed_files.zip','w')"
   ]
  },
  {
   "cell_type": "code",
   "execution_count": 5,
   "id": "0741fa01",
   "metadata": {},
   "outputs": [],
   "source": [
    "compress_file.write('fileone.txt',compress_type=zipfile.ZIP_DEFLATED)"
   ]
  },
  {
   "cell_type": "code",
   "execution_count": 6,
   "id": "ce4e6112",
   "metadata": {},
   "outputs": [],
   "source": [
    "compress_file.write('file2.txt',compress_type=zipfile.ZIP_DEFLATED)"
   ]
  },
  {
   "cell_type": "code",
   "execution_count": 8,
   "id": "c6cd6ba1",
   "metadata": {},
   "outputs": [],
   "source": [
    "compress_file.close()"
   ]
  },
  {
   "cell_type": "code",
   "execution_count": 12,
   "id": "d4ca24c6",
   "metadata": {},
   "outputs": [],
   "source": [
    "zip_obj = zipfile.ZipFile('compressed_files.zip')"
   ]
  },
  {
   "cell_type": "code",
   "execution_count": 13,
   "id": "e6d398de",
   "metadata": {},
   "outputs": [],
   "source": [
    "zip_obj.extractall('extracted_files')"
   ]
  },
  {
   "cell_type": "code",
   "execution_count": 14,
   "id": "4abb59ab",
   "metadata": {},
   "outputs": [],
   "source": [
    "#shell utitliy"
   ]
  },
  {
   "cell_type": "code",
   "execution_count": 15,
   "id": "7e7eb3ad",
   "metadata": {},
   "outputs": [],
   "source": [
    "import shutil"
   ]
  },
  {
   "cell_type": "code",
   "execution_count": 16,
   "id": "75ac882d",
   "metadata": {},
   "outputs": [
    {
     "data": {
      "text/plain": [
       "'C:\\\\Users\\\\CharlesBoom\\\\OneDrive - Kubrick Group\\\\Desktop\\\\udemy_python'"
      ]
     },
     "execution_count": 16,
     "metadata": {},
     "output_type": "execute_result"
    }
   ],
   "source": [
    "pwd"
   ]
  },
  {
   "cell_type": "code",
   "execution_count": 17,
   "id": "903033e6",
   "metadata": {},
   "outputs": [],
   "source": [
    "dir_to_zip = 'C:\\\\Users\\\\CharlesBoom\\\\OneDrive - Kubrick Group\\\\Desktop\\\\udemy_python\\extracted_files'"
   ]
  },
  {
   "cell_type": "code",
   "execution_count": 18,
   "id": "daa63ddd",
   "metadata": {},
   "outputs": [
    {
     "data": {
      "text/plain": [
       "'C:\\\\Users\\\\CharlesBoom\\\\OneDrive - Kubrick Group\\\\Desktop\\\\udemy_python\\\\outputfile.zip'"
      ]
     },
     "execution_count": 18,
     "metadata": {},
     "output_type": "execute_result"
    }
   ],
   "source": [
    "shutil.make_archive('outputfile','zip', dir_to_zip)"
   ]
  },
  {
   "cell_type": "code",
   "execution_count": 19,
   "id": "3812e36e",
   "metadata": {},
   "outputs": [],
   "source": [
    "#that was zipping an entire folder"
   ]
  },
  {
   "cell_type": "code",
   "execution_count": 21,
   "id": "6433086d",
   "metadata": {},
   "outputs": [],
   "source": [
    "shutil.unpack_archive('outputfile.zip','unzippedoutput','zip')"
   ]
  },
  {
   "cell_type": "code",
   "execution_count": null,
   "id": "165838cf",
   "metadata": {},
   "outputs": [],
   "source": []
  }
 ],
 "metadata": {
  "kernelspec": {
   "display_name": "Python 3 (ipykernel)",
   "language": "python",
   "name": "python3"
  },
  "language_info": {
   "codemirror_mode": {
    "name": "ipython",
    "version": 3
   },
   "file_extension": ".py",
   "mimetype": "text/x-python",
   "name": "python",
   "nbconvert_exporter": "python",
   "pygments_lexer": "ipython3",
   "version": "3.9.7"
  }
 },
 "nbformat": 4,
 "nbformat_minor": 5
}
