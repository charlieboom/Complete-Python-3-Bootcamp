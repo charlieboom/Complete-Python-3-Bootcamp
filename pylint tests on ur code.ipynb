{
 "cells": [
  {
   "cell_type": "code",
   "execution_count": 1,
   "id": "feaab77c",
   "metadata": {},
   "outputs": [
    {
     "name": "stdout",
     "output_type": "stream",
     "text": [
      "Requirement already satisfied: pylint in /Users/charlesboom/opt/anaconda3/lib/python3.8/site-packages (2.7.4)\n",
      "Requirement already satisfied: astroid<2.7,>=2.5.2 in /Users/charlesboom/opt/anaconda3/lib/python3.8/site-packages (from pylint) (2.6.6)\n",
      "Requirement already satisfied: mccabe<0.7,>=0.6 in /Users/charlesboom/opt/anaconda3/lib/python3.8/site-packages (from pylint) (0.6.1)\n",
      "Requirement already satisfied: isort<6,>=4.2.5 in /Users/charlesboom/opt/anaconda3/lib/python3.8/site-packages (from pylint) (5.8.0)\n",
      "Requirement already satisfied: toml>=0.7.1 in /Users/charlesboom/opt/anaconda3/lib/python3.8/site-packages (from pylint) (0.10.2)\n",
      "Requirement already satisfied: lazy-object-proxy>=1.4.0 in /Users/charlesboom/opt/anaconda3/lib/python3.8/site-packages (from astroid<2.7,>=2.5.2->pylint) (1.6.0)\n",
      "Requirement already satisfied: wrapt<1.13,>=1.11 in /Users/charlesboom/opt/anaconda3/lib/python3.8/site-packages (from astroid<2.7,>=2.5.2->pylint) (1.12.1)\n",
      "Requirement already satisfied: setuptools>=20.0 in /Users/charlesboom/opt/anaconda3/lib/python3.8/site-packages (from astroid<2.7,>=2.5.2->pylint) (52.0.0.post20210125)\n",
      "Note: you may need to restart the kernel to use updated packages.\n"
     ]
    }
   ],
   "source": [
    "pip install pylint"
   ]
  },
  {
   "cell_type": "markdown",
   "id": "df2d326d",
   "metadata": {},
   "source": []
  },
  {
   "cell_type": "code",
   "execution_count": 2,
   "id": "098ea620",
   "metadata": {},
   "outputs": [
    {
     "ename": "NameError",
     "evalue": "name 'B' is not defined",
     "output_type": "error",
     "traceback": [
      "\u001b[0;31m---------------------------------------------------------------------------\u001b[0m",
      "\u001b[0;31mNameError\u001b[0m                                 Traceback (most recent call last)",
      "\u001b[0;32m<ipython-input-2-2959a07bff8c>\u001b[0m in \u001b[0;36m<module>\u001b[0;34m\u001b[0m\n\u001b[1;32m      1\u001b[0m \u001b[0ma\u001b[0m \u001b[0;34m=\u001b[0m \u001b[0;36m10\u001b[0m\u001b[0;34m\u001b[0m\u001b[0;34m\u001b[0m\u001b[0m\n\u001b[1;32m      2\u001b[0m \u001b[0mb\u001b[0m \u001b[0;34m=\u001b[0m \u001b[0;36m20\u001b[0m\u001b[0;34m\u001b[0m\u001b[0;34m\u001b[0m\u001b[0m\n\u001b[0;32m----> 3\u001b[0;31m \u001b[0mprint\u001b[0m\u001b[0;34m(\u001b[0m\u001b[0ma\u001b[0m\u001b[0;34m+\u001b[0m\u001b[0mB\u001b[0m\u001b[0;34m)\u001b[0m\u001b[0;34m\u001b[0m\u001b[0;34m\u001b[0m\u001b[0m\n\u001b[0m",
      "\u001b[0;31mNameError\u001b[0m: name 'B' is not defined"
     ]
    }
   ],
   "source": [
    "a = 10\n",
    "b = 20\n",
    "print(a+B)"
   ]
  },
  {
   "cell_type": "markdown",
   "id": "e7e0d0d1",
   "metadata": {},
   "source": [
    "in same folder in the command line\n",
    "run `pylint [file name]`"
   ]
  },
  {
   "cell_type": "markdown",
   "id": "632279ed",
   "metadata": {},
   "source": [
    "tells wats from and pep 8 issues"
   ]
  },
  {
   "cell_type": "markdown",
   "id": "dfc4e521",
   "metadata": {},
   "source": [
    "tells a lot of info"
   ]
  },
  {
   "cell_type": "markdown",
   "id": "e90993f8",
   "metadata": {},
   "source": [
    "ranks out of 10"
   ]
  },
  {
   "cell_type": "markdown",
   "id": "794433b8",
   "metadata": {},
   "source": [
    "`string.capitilize()` capatilises the first word, .title() capitalises the first letter of every word !!!"
   ]
  },
  {
   "cell_type": "code",
   "execution_count": null,
   "id": "1c70a92a",
   "metadata": {},
   "outputs": [],
   "source": []
  }
 ],
 "metadata": {
  "kernelspec": {
   "display_name": "Python 3",
   "language": "python",
   "name": "python3"
  },
  "language_info": {
   "codemirror_mode": {
    "name": "ipython",
    "version": 3
   },
   "file_extension": ".py",
   "mimetype": "text/x-python",
   "name": "python",
   "nbconvert_exporter": "python",
   "pygments_lexer": "ipython3",
   "version": "3.8.8"
  }
 },
 "nbformat": 4,
 "nbformat_minor": 5
}
