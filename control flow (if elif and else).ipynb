{
 "cells": [
  {
   "cell_type": "code",
   "execution_count": 1,
   "id": "10f8bca0",
   "metadata": {},
   "outputs": [],
   "source": [
    "#syntax for this uses indents and colons"
   ]
  },
  {
   "cell_type": "code",
   "execution_count": 2,
   "id": "5afe0c14",
   "metadata": {},
   "outputs": [],
   "source": [
    "#syntax for if\n",
    "#if some_condition:\n",
    "    #execute some code\n",
    "#elif some_other condition\n",
    "    #do something else\n",
    "#else:\n",
    "    #do something eles\n",
    "    \n"
   ]
  },
  {
   "cell_type": "code",
   "execution_count": 3,
   "id": "a70fa259",
   "metadata": {},
   "outputs": [
    {
     "name": "stdout",
     "output_type": "stream",
     "text": [
      "ITS TRUE\n"
     ]
    }
   ],
   "source": [
    "if True:\n",
    "    print('ITS TRUE')"
   ]
  },
  {
   "cell_type": "code",
   "execution_count": 4,
   "id": "f93bec70",
   "metadata": {},
   "outputs": [
    {
     "name": "stdout",
     "output_type": "stream",
     "text": [
      "ITS TRUE\n"
     ]
    }
   ],
   "source": [
    "if 3>2:\n",
    "    print('ITS TRUE')"
   ]
  },
  {
   "cell_type": "code",
   "execution_count": 5,
   "id": "aaddd167",
   "metadata": {},
   "outputs": [
    {
     "name": "stdout",
     "output_type": "stream",
     "text": [
      "feed me\n"
     ]
    }
   ],
   "source": [
    "hungry = True\n",
    "if hungry:\n",
    "    print('feed me')"
   ]
  },
  {
   "cell_type": "code",
   "execution_count": 6,
   "id": "7204ce8d",
   "metadata": {},
   "outputs": [],
   "source": [
    "hungry = False"
   ]
  },
  {
   "cell_type": "code",
   "execution_count": 10,
   "id": "be96ccc7",
   "metadata": {},
   "outputs": [
    {
     "name": "stdout",
     "output_type": "stream",
     "text": [
      "not hungry\n"
     ]
    }
   ],
   "source": [
    "hungry = False\n",
    "if hungry:\n",
    "    print('feed me')\n",
    "else:\n",
    "    print('not hungry')"
   ]
  },
  {
   "cell_type": "code",
   "execution_count": 11,
   "id": "c026e424",
   "metadata": {},
   "outputs": [
    {
     "name": "stdout",
     "output_type": "stream",
     "text": [
      "feed me\n"
     ]
    }
   ],
   "source": [
    "hungry = True\n",
    "if hungry:\n",
    "    print('feed me')\n",
    "else:\n",
    "    print('not hungry')"
   ]
  },
  {
   "cell_type": "code",
   "execution_count": 14,
   "id": "f3f243a0",
   "metadata": {},
   "outputs": [
    {
     "name": "stdout",
     "output_type": "stream",
     "text": [
      "money is cool\n"
     ]
    }
   ],
   "source": [
    "loc = 'Bank'\n",
    "\n",
    "if loc == 'auto shop':\n",
    "    print('cars are cool')\n",
    "elif loc == \"Bank\":\n",
    "    print('money is cool')\n",
    "elif loc == 'Store':\n",
    "    print('welcome to store')\n",
    "else:\n",
    "    print('do not know')"
   ]
  },
  {
   "cell_type": "code",
   "execution_count": 15,
   "id": "9bdcff19",
   "metadata": {},
   "outputs": [
    {
     "name": "stdout",
     "output_type": "stream",
     "text": [
      "welcome to store\n"
     ]
    }
   ],
   "source": [
    "loc = 'Store'\n",
    "\n",
    "if loc == 'auto shop':\n",
    "    print('cars are cool')\n",
    "elif loc == \"Bank\":\n",
    "    print('money is cool')\n",
    "elif loc == 'Store':\n",
    "    print('welcome to store')\n",
    "else:\n",
    "    print('do not know')"
   ]
  },
  {
   "cell_type": "code",
   "execution_count": 16,
   "id": "d75d9acb",
   "metadata": {},
   "outputs": [],
   "source": [
    "name=\"Sammy\""
   ]
  },
  {
   "cell_type": "code",
   "execution_count": 18,
   "id": "68b800ab",
   "metadata": {},
   "outputs": [
    {
     "name": "stdout",
     "output_type": "stream",
     "text": [
      "Hello Sammy\n"
     ]
    }
   ],
   "source": [
    "if name == 'Frankie':\n",
    "    print(\"hello Frankie\")\n",
    "elif name == \"Sammy\":\n",
    "    print('Hello Sammy')\n",
    "else:\n",
    "    print(\"What is ur name?\")"
   ]
  },
  {
   "cell_type": "code",
   "execution_count": null,
   "id": "b9f21e04",
   "metadata": {},
   "outputs": [],
   "source": []
  }
 ],
 "metadata": {
  "kernelspec": {
   "display_name": "Python 3",
   "language": "python",
   "name": "python3"
  },
  "language_info": {
   "codemirror_mode": {
    "name": "ipython",
    "version": 3
   },
   "file_extension": ".py",
   "mimetype": "text/x-python",
   "name": "python",
   "nbconvert_exporter": "python",
   "pygments_lexer": "ipython3",
   "version": "3.8.8"
  }
 },
 "nbformat": 4,
 "nbformat_minor": 5
}
