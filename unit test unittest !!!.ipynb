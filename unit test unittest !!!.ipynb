{
 "cells": [
  {
   "cell_type": "markdown",
   "id": "f0be301b",
   "metadata": {},
   "source": [
    "define a function, save if it in same folder\n",
    "\n",
    "go to new file\n",
    "\n"
   ]
  },
  {
   "cell_type": "markdown",
   "id": "87c46175",
   "metadata": {},
   "source": [
    "`import unittest\n",
    "import [file name of file with the function in it]`"
   ]
  },
  {
   "cell_type": "markdown",
   "id": "ea51e79f",
   "metadata": {},
   "source": [
    "`class Test[filename](unittest.TestCase):`\n",
    "    \n",
    "    `def test_one_word(self):`\n",
    "    '''\n",
    "    if the file function was to run .capitalise(), then:\n",
    "    '''\n",
    "    `text = 'python'`\n",
    "    `result = [filename].[function name](text)`\n",
    "    `self.assertEqual(result, 'Python')`\n",
    "    \n",
    "`if __name__ == '__main__':\n",
    "    unittest.main()`"
   ]
  },
  {
   "cell_type": "markdown",
   "id": "d94adae1",
   "metadata": {},
   "source": [
    "run `python test_cap.py` (name of tests file)"
   ]
  },
  {
   "cell_type": "code",
   "execution_count": null,
   "id": "3eee3ca4",
   "metadata": {},
   "outputs": [],
   "source": []
  }
 ],
 "metadata": {
  "kernelspec": {
   "display_name": "Python 3",
   "language": "python",
   "name": "python3"
  },
  "language_info": {
   "codemirror_mode": {
    "name": "ipython",
    "version": 3
   },
   "file_extension": ".py",
   "mimetype": "text/x-python",
   "name": "python",
   "nbconvert_exporter": "python",
   "pygments_lexer": "ipython3",
   "version": "3.8.8"
  }
 },
 "nbformat": 4,
 "nbformat_minor": 5
}
