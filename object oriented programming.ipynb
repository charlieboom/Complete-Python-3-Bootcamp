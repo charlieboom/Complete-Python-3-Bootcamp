{
 "cells": [
  {
   "cell_type": "code",
   "execution_count": 2,
   "id": "f830ca01",
   "metadata": {},
   "outputs": [
    {
     "data": {
      "text/plain": [
       "'\\nallows programmers to create objects that have methods and attributes'"
      ]
     },
     "execution_count": 2,
     "metadata": {},
     "output_type": "execute_result"
    }
   ],
   "source": [
    "'''\n",
    "allows programmers to create objects that have methods and attributes'''"
   ]
  },
  {
   "cell_type": "code",
   "execution_count": 3,
   "id": "04edbcc2",
   "metadata": {},
   "outputs": [
    {
     "data": {
      "text/plain": [
       "'these methods act as functions to return results or edit things'"
      ]
     },
     "execution_count": 3,
     "metadata": {},
     "output_type": "execute_result"
    }
   ],
   "source": [
    "'''these methods act as functions to return results or edit things'''"
   ]
  },
  {
   "cell_type": "code",
   "execution_count": 5,
   "id": "3fc65e75",
   "metadata": {},
   "outputs": [
    {
     "data": {
      "text/plain": [
       "'such as .sort and .append, but we can do that\\nourselves using SELF KEY WORD'"
      ]
     },
     "execution_count": 5,
     "metadata": {},
     "output_type": "execute_result"
    }
   ],
   "source": [
    "'''such as .sort and .append, but we can do that\n",
    "ourselves using SELF KEY WORD'''"
   ]
  },
  {
   "cell_type": "code",
   "execution_count": 6,
   "id": "ec17ceb3",
   "metadata": {},
   "outputs": [
    {
     "data": {
      "text/plain": [
       "'class NameOfClass():\\nclasses need uppercases at start\\n\\n    def __init__(self,param1,param2):\\n        self.param1=param1\\n        self.param2=param2\\n        \\n    def somemethod(self):\\n        do something\\n        print(self.param1)'"
      ]
     },
     "execution_count": 6,
     "metadata": {},
     "output_type": "execute_result"
    }
   ],
   "source": [
    "'''class NameOfClass():\n",
    "classes need uppercases at start\n",
    "\n",
    "    def __init__(self,param1,param2):\n",
    "        self.param1=param1\n",
    "        self.param2=param2\n",
    "        \n",
    "    def somemethod(self):\n",
    "        do something\n",
    "        print(self.param1)'''"
   ]
  },
  {
   "cell_type": "code",
   "execution_count": null,
   "id": "f8efd581",
   "metadata": {},
   "outputs": [],
   "source": []
  }
 ],
 "metadata": {
  "kernelspec": {
   "display_name": "Python 3",
   "language": "python",
   "name": "python3"
  },
  "language_info": {
   "codemirror_mode": {
    "name": "ipython",
    "version": 3
   },
   "file_extension": ".py",
   "mimetype": "text/x-python",
   "name": "python",
   "nbconvert_exporter": "python",
   "pygments_lexer": "ipython3",
   "version": "3.8.8"
  }
 },
 "nbformat": 4,
 "nbformat_minor": 5
}
