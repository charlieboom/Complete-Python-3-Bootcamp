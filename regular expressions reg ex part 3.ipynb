{
 "cells": [
  {
   "cell_type": "code",
   "execution_count": 2,
   "id": "6c37b5cd",
   "metadata": {},
   "outputs": [
    {
     "data": {
      "text/plain": [
       "<re.Match object; span=(4, 7), match='cat'>"
      ]
     },
     "execution_count": 2,
     "metadata": {},
     "output_type": "execute_result"
    }
   ],
   "source": [
    "# or operator\n",
    "# eg.\n",
    "import re\n",
    "re.search(r'cat|dog', 'the cat is here')"
   ]
  },
  {
   "cell_type": "code",
   "execution_count": 5,
   "id": "1acecf96",
   "metadata": {},
   "outputs": [
    {
     "data": {
      "text/plain": [
       "['e cat', 'e hat', 'splat']"
      ]
     },
     "execution_count": 5,
     "metadata": {},
     "output_type": "execute_result"
    }
   ],
   "source": [
    "#wildcard !!\n",
    "re.findall(r'...at', 'the cat in the hat went splat')"
   ]
  },
  {
   "cell_type": "code",
   "execution_count": 6,
   "id": "10179342",
   "metadata": {},
   "outputs": [
    {
     "data": {
      "text/plain": [
       "['2']"
      ]
     },
     "execution_count": 6,
     "metadata": {},
     "output_type": "execute_result"
    }
   ],
   "source": [
    "re.findall(r'^\\d', '2 is a number')"
   ]
  },
  {
   "cell_type": "code",
   "execution_count": 7,
   "id": "6b11953f",
   "metadata": {},
   "outputs": [
    {
     "data": {
      "text/plain": [
       "['4']"
      ]
     },
     "execution_count": 7,
     "metadata": {},
     "output_type": "execute_result"
    }
   ],
   "source": [
    "re.findall(r'\\d$', '2 is a number and so is 4')"
   ]
  },
  {
   "cell_type": "code",
   "execution_count": 8,
   "id": "641afa8c",
   "metadata": {},
   "outputs": [],
   "source": [
    "# ^ means start with and $ means ends with !!!!"
   ]
  },
  {
   "cell_type": "code",
   "execution_count": 9,
   "id": "eb6c0353",
   "metadata": {},
   "outputs": [],
   "source": [
    "phrase = 'there are 3 numbrs in 34 inside 6 this sentence'"
   ]
  },
  {
   "cell_type": "code",
   "execution_count": 10,
   "id": "8c2f76be",
   "metadata": {},
   "outputs": [
    {
     "data": {
      "text/plain": [
       "['there are ', ' numbrs in ', ' inside ', ' this sentence']"
      ]
     },
     "execution_count": 10,
     "metadata": {},
     "output_type": "execute_result"
    }
   ],
   "source": [
    "re.findall(r'[^\\d]+',phrase)"
   ]
  },
  {
   "cell_type": "code",
   "execution_count": 11,
   "id": "14dcaf00",
   "metadata": {},
   "outputs": [],
   "source": [
    "### gets rid of punctuation !!!"
   ]
  },
  {
   "cell_type": "code",
   "execution_count": 16,
   "id": "fdf9917e",
   "metadata": {},
   "outputs": [
    {
     "data": {
      "text/plain": [
       "['there', 'are', '3', 'numbrs', 'in', '34', 'inside', '6', 'this', 'sentence']"
      ]
     },
     "execution_count": 16,
     "metadata": {},
     "output_type": "execute_result"
    }
   ],
   "source": [
    "re.findall(r'[^!.? ]+', phrase)"
   ]
  },
  {
   "cell_type": "code",
   "execution_count": 17,
   "id": "143d7570",
   "metadata": {},
   "outputs": [],
   "source": [
    "# then can ' '.join and get clean phrase with no punctuation"
   ]
  },
  {
   "cell_type": "code",
   "execution_count": 18,
   "id": "46a41f32",
   "metadata": {},
   "outputs": [],
   "source": [
    "text = 'only find words that are hyphen-ated in this long-ish sentence'"
   ]
  },
  {
   "cell_type": "code",
   "execution_count": 24,
   "id": "833d1c7b",
   "metadata": {},
   "outputs": [],
   "source": [
    "pattern = r'[\\w]+-[\\w]+'"
   ]
  },
  {
   "cell_type": "code",
   "execution_count": 25,
   "id": "ec9c4044",
   "metadata": {},
   "outputs": [
    {
     "data": {
      "text/plain": [
       "['hyphen-ated', 'long-ish']"
      ]
     },
     "execution_count": 25,
     "metadata": {},
     "output_type": "execute_result"
    }
   ],
   "source": [
    "re.findall(pattern,text)"
   ]
  },
  {
   "cell_type": "code",
   "execution_count": 27,
   "id": "745d18b6",
   "metadata": {},
   "outputs": [],
   "source": [
    "# parentheses give multiple options\n",
    "re.search(r'cat(fish|nap|erpillar)',text)"
   ]
  },
  {
   "cell_type": "code",
   "execution_count": 28,
   "id": "ba1630ce",
   "metadata": {},
   "outputs": [],
   "source": [
    "#the above would find catfhish, catnap and caterpillar"
   ]
  },
  {
   "cell_type": "code",
   "execution_count": null,
   "id": "d3da3031",
   "metadata": {},
   "outputs": [],
   "source": []
  }
 ],
 "metadata": {
  "kernelspec": {
   "display_name": "Python 3 (ipykernel)",
   "language": "python",
   "name": "python3"
  },
  "language_info": {
   "codemirror_mode": {
    "name": "ipython",
    "version": 3
   },
   "file_extension": ".py",
   "mimetype": "text/x-python",
   "name": "python",
   "nbconvert_exporter": "python",
   "pygments_lexer": "ipython3",
   "version": "3.9.7"
  }
 },
 "nbformat": 4,
 "nbformat_minor": 5
}
