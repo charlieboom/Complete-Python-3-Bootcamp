{
 "cells": [
  {
   "cell_type": "code",
   "execution_count": 1,
   "id": "f091d522",
   "metadata": {},
   "outputs": [
    {
     "data": {
      "text/plain": [
       "'\\nvariable names are stored in name space, and variables have scope\\nscope determined where places can see variables\\n'"
      ]
     },
     "execution_count": 1,
     "metadata": {},
     "output_type": "execute_result"
    }
   ],
   "source": [
    "'''\n",
    "variable names are stored in name space, and variables have scope\n",
    "scope determined where places can see variables\n",
    "'''"
   ]
  },
  {
   "cell_type": "code",
   "execution_count": 2,
   "id": "51270b16",
   "metadata": {},
   "outputs": [],
   "source": [
    "x=25\n",
    "def printer():\n",
    "    x=50\n",
    "    return x\n"
   ]
  },
  {
   "cell_type": "code",
   "execution_count": 3,
   "id": "5abeeaef",
   "metadata": {},
   "outputs": [
    {
     "name": "stdout",
     "output_type": "stream",
     "text": [
      "25\n"
     ]
    }
   ],
   "source": [
    "print(x)"
   ]
  },
  {
   "cell_type": "code",
   "execution_count": 4,
   "id": "c7bd6fa3",
   "metadata": {},
   "outputs": [
    {
     "name": "stdout",
     "output_type": "stream",
     "text": [
      "50\n"
     ]
    }
   ],
   "source": [
    "print(printer())"
   ]
  },
  {
   "cell_type": "code",
   "execution_count": 5,
   "id": "d6543833",
   "metadata": {},
   "outputs": [
    {
     "data": {
      "text/plain": [
       "'\\nLEGB rule:\\nLocal: names assigned in anyway inside a function, not declared global\\nEnclosed: enclosing function locals, names in local scope, inner or outer\\nGlobal: names assigned at top level of a file\\nBuilt: built in key words, open, range, SyntaxError'"
      ]
     },
     "execution_count": 5,
     "metadata": {},
     "output_type": "execute_result"
    }
   ],
   "source": [
    "'''\n",
    "LEGB rule:\n",
    "Local: names assigned in anyway inside a function, not declared global\n",
    "Enclosed: enclosing function locals, names in local scope, inner or outer\n",
    "Global: names assigned at top level of a file\n",
    "Built: built in key words, open, range, SyntaxError'''"
   ]
  },
  {
   "cell_type": "code",
   "execution_count": 6,
   "id": "591e997e",
   "metadata": {},
   "outputs": [
    {
     "data": {
      "text/plain": [
       "<function __main__.<lambda>(num)>"
      ]
     },
     "execution_count": 6,
     "metadata": {},
     "output_type": "execute_result"
    }
   ],
   "source": [
    "lambda num: num**2 #num is local to lambda"
   ]
  },
  {
   "cell_type": "code",
   "execution_count": 12,
   "id": "ee74151d",
   "metadata": {},
   "outputs": [
    {
     "name": "stdout",
     "output_type": "stream",
     "text": [
      "Hello Im a local\n"
     ]
    }
   ],
   "source": [
    "#global\n",
    "name = ' This is a global string'\n",
    "\n",
    "def greet():\n",
    "    #enclosing\n",
    "    name = 'Sammy'\n",
    "    \n",
    "    def hello():\n",
    "        name= 'Im a local'\n",
    "        print('Hello '+name)\n",
    "        \n",
    "    hello()\n",
    "    \n",
    "greet()"
   ]
  },
  {
   "cell_type": "code",
   "execution_count": 13,
   "id": "6099039b",
   "metadata": {},
   "outputs": [
    {
     "name": "stdout",
     "output_type": "stream",
     "text": [
      "Hello Im a local\n"
     ]
    }
   ],
   "source": [
    "greet()"
   ]
  },
  {
   "cell_type": "code",
   "execution_count": 14,
   "id": "37b2f579",
   "metadata": {},
   "outputs": [
    {
     "data": {
      "text/plain": [
       "'\\nLocal in hello, looks for name, then goes to Enclosed coz cant find it, so it finds it in greet()'"
      ]
     },
     "execution_count": 14,
     "metadata": {},
     "output_type": "execute_result"
    }
   ],
   "source": [
    "'''\n",
    "Local in hello, looks for name, then goes to Enclosed coz cant find it, so it finds it in greet()'''"
   ]
  },
  {
   "cell_type": "code",
   "execution_count": 10,
   "id": "7c4182c9",
   "metadata": {},
   "outputs": [
    {
     "data": {
      "text/plain": [
       "'if name is not defined inside greet(), then it goes to global, so it would print hello This is a global string'"
      ]
     },
     "execution_count": 10,
     "metadata": {},
     "output_type": "execute_result"
    }
   ],
   "source": [
    "'''if name is not defined inside greet(), then it goes to global, so it would print hello This is a global string'''"
   ]
  },
  {
   "cell_type": "code",
   "execution_count": 11,
   "id": "e070fa3d",
   "metadata": {},
   "outputs": [
    {
     "data": {
      "text/plain": [
       "'global means no indentation'"
      ]
     },
     "execution_count": 11,
     "metadata": {},
     "output_type": "execute_result"
    }
   ],
   "source": [
    "'''global means no indentation'''"
   ]
  },
  {
   "cell_type": "code",
   "execution_count": 15,
   "id": "4aab214d",
   "metadata": {},
   "outputs": [],
   "source": [
    "x = 50\n",
    "\n",
    "def func(x):\n",
    "    print(f'X is {x}')\n",
    "    \n",
    "    #local\n",
    "    x = 200\n",
    "    print(f'i just locally changed X to {x}')"
   ]
  },
  {
   "cell_type": "code",
   "execution_count": 16,
   "id": "c4978ede",
   "metadata": {},
   "outputs": [
    {
     "name": "stdout",
     "output_type": "stream",
     "text": [
      "X is 50\n",
      "i just locally changed X to 200\n"
     ]
    }
   ],
   "source": [
    "func(x)"
   ]
  },
  {
   "cell_type": "code",
   "execution_count": 17,
   "id": "351635a9",
   "metadata": {},
   "outputs": [
    {
     "name": "stdout",
     "output_type": "stream",
     "text": [
      "50\n"
     ]
    }
   ],
   "source": [
    "print(x)"
   ]
  },
  {
   "cell_type": "code",
   "execution_count": 18,
   "id": "0b12ebbd",
   "metadata": {},
   "outputs": [
    {
     "data": {
      "text/plain": [
       "'if u want to get global inside the function:'"
      ]
     },
     "execution_count": 18,
     "metadata": {},
     "output_type": "execute_result"
    }
   ],
   "source": [
    "'''if u want to get global inside the function:'''\n"
   ]
  },
  {
   "cell_type": "code",
   "execution_count": 20,
   "id": "9a854a74",
   "metadata": {},
   "outputs": [],
   "source": [
    "x = 50\n",
    "\n",
    "def func():\n",
    "    global x\n",
    "    print(f'X is {x}')\n",
    "    \n",
    "    #local reassignment on GLOBAL VARIABLE\n",
    "    x = 400\n",
    "    print(f'i just locally changed global X to {x}')"
   ]
  },
  {
   "cell_type": "code",
   "execution_count": null,
   "id": "37df6508",
   "metadata": {},
   "outputs": [],
   "source": []
  },
  {
   "cell_type": "code",
   "execution_count": 21,
   "id": "6f5a5ef4",
   "metadata": {},
   "outputs": [
    {
     "name": "stdout",
     "output_type": "stream",
     "text": [
      "X is 50\n",
      "i just locally changed global X to 400\n"
     ]
    }
   ],
   "source": [
    "func()"
   ]
  },
  {
   "cell_type": "code",
   "execution_count": 22,
   "id": "c7bbc4db",
   "metadata": {},
   "outputs": [
    {
     "data": {
      "text/plain": [
       "400"
      ]
     },
     "execution_count": 22,
     "metadata": {},
     "output_type": "execute_result"
    }
   ],
   "source": [
    "x"
   ]
  },
  {
   "cell_type": "code",
   "execution_count": 23,
   "id": "d9304195",
   "metadata": {},
   "outputs": [
    {
     "data": {
      "text/plain": [
       "'can also do x = func(x) to avoid using global'"
      ]
     },
     "execution_count": 23,
     "metadata": {},
     "output_type": "execute_result"
    }
   ],
   "source": [
    "'''can also do return x then x = func(x) to avoid using global'''"
   ]
  },
  {
   "cell_type": "code",
   "execution_count": null,
   "id": "5224a261",
   "metadata": {},
   "outputs": [],
   "source": []
  }
 ],
 "metadata": {
  "kernelspec": {
   "display_name": "Python 3",
   "language": "python",
   "name": "python3"
  },
  "language_info": {
   "codemirror_mode": {
    "name": "ipython",
    "version": 3
   },
   "file_extension": ".py",
   "mimetype": "text/x-python",
   "name": "python",
   "nbconvert_exporter": "python",
   "pygments_lexer": "ipython3",
   "version": "3.8.8"
  }
 },
 "nbformat": 4,
 "nbformat_minor": 5
}
